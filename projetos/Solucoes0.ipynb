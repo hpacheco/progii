{
 "cells": [
  {
   "cell_type": "markdown",
   "metadata": {},
   "source": [
    "## Resolução dos exercícios do Projeto 0"
   ]
  },
  {
   "cell_type": "code",
   "execution_count": 41,
   "metadata": {},
   "outputs": [],
   "source": [
    "import math\n",
    "import turtle\n",
    "import string"
   ]
  },
  {
   "cell_type": "markdown",
   "metadata": {},
   "source": [
    "## Exercício 2.5\n",
    "\n",
    "Escreva uma função perim_circ(r) que calcule o perímetro de um círculo com raio r."
   ]
  },
  {
   "cell_type": "code",
   "execution_count": 2,
   "metadata": {},
   "outputs": [
    {
     "data": {
      "text/plain": [
       "25.132741228718345"
      ]
     },
     "execution_count": 2,
     "metadata": {},
     "output_type": "execute_result"
    }
   ],
   "source": [
    "def perim_circ(r):\n",
    "    return 2 * math.pi * r\n",
    "perim_circ(4)"
   ]
  },
  {
   "cell_type": "markdown",
   "metadata": {},
   "source": [
    "## Exercício 2.6\n",
    "\n",
    "Escreva uma função area_circ(r) que calcule a área de um círculo com raio r."
   ]
  },
  {
   "cell_type": "code",
   "execution_count": 3,
   "metadata": {},
   "outputs": [
    {
     "data": {
      "text/plain": [
       "50.26548245743669"
      ]
     },
     "execution_count": 3,
     "metadata": {},
     "output_type": "execute_result"
    }
   ],
   "source": [
    "def area_circ(r):\n",
    "    return math.pi * r**2\n",
    "area_circ(4)"
   ]
  },
  {
   "cell_type": "markdown",
   "metadata": {},
   "source": [
    "## Exercício 2.8\n",
    "\n",
    "A conversão entre medidas de temperatura em *Fahrenheit* e *Celsius* pode ser efectuada pela fórmula\n",
    "$$ C = \\frac{5}{9} (F - 32)$$,\n",
    "onde $F$ é a temperatura em *Fahrenheit* e $C$ em *Celsius*. Escreva uma função celsius($F$) que efetue a\n",
    "conversão de *Fahrenheit* para *Celsius* de uma temperatura $F$."
   ]
  },
  {
   "cell_type": "code",
   "execution_count": 4,
   "metadata": {},
   "outputs": [
    {
     "name": "stdout",
     "output_type": "stream",
     "text": [
      "-17.77777777777778\n",
      "-6.666666666666667\n"
     ]
    }
   ],
   "source": [
    "def celsius(F):\n",
    "    return (5/9) * (F - 32)\n",
    "print(celsius(0))\n",
    "print(celsius(20))"
   ]
  },
  {
   "cell_type": "markdown",
   "metadata": {},
   "source": [
    "## Exercício 2.11\n",
    "\n",
    "A distância entre dois pontos no plano de coordenadas $(x_1,y_1)$ e $(x_2,y_2)$ é dada por:\n",
    "$$ d = \\sqrt{(x_2 - x_1)^2 + (y_2 - y_1)^2} $$\n",
    "Implemente uma função dist($x_1$,$y_1$,$x_2$,$y_2$) que use esta fórmula para calcular a distância."
   ]
  },
  {
   "cell_type": "code",
   "execution_count": 5,
   "metadata": {},
   "outputs": [
    {
     "data": {
      "text/plain": [
       "4.242640687119285"
      ]
     },
     "execution_count": 5,
     "metadata": {},
     "output_type": "execute_result"
    }
   ],
   "source": [
    "def dist(x1,y1,x2,y2):\n",
    "    return math.sqrt((x2-x1)**2 + (y2-y1)**2)\n",
    "dist(1,1,4,4)"
   ]
  },
  {
   "cell_type": "markdown",
   "metadata": {},
   "source": [
    "## Exercício 3.4\n",
    "\n",
    "Escreva uma função radianos(graus,mins,segs) que, dado o valor de um ângulo em graus,\n",
    "minutos e segundos, converte-o para radianos. Relembre que $360º$\n",
    "corresponde a $2 \\pi$ radianos, cada grau\n",
    "tem 60 minutos e cada minuto tem 60 segundos."
   ]
  },
  {
   "cell_type": "code",
   "execution_count": 6,
   "metadata": {},
   "outputs": [
    {
     "name": "stdout",
     "output_type": "stream",
     "text": [
      "0.0002908882086657216\n",
      "0.017453292519943295\n",
      "3.144695461148894\n"
     ]
    }
   ],
   "source": [
    "def radianos(graus,mins,segs):\n",
    "    mins = mins + segs / 60\n",
    "    graus = graus + mins / 60\n",
    "    return graus * (2 * math.pi / 360)\n",
    "print(radianos(0,0,60))\n",
    "print(radianos(0,60,0))\n",
    "print(radianos(180,10,40))"
   ]
  },
  {
   "cell_type": "markdown",
   "metadata": {},
   "source": [
    "## Exercício 3.5\n",
    "\n",
    "Escreva uma função segundos(horas,mins,segs) que, dada uma duração em horas, minutos e segundos, calcula e retorna essa mesma duração em segundos."
   ]
  },
  {
   "cell_type": "code",
   "execution_count": 7,
   "metadata": {},
   "outputs": [
    {
     "name": "stdout",
     "output_type": "stream",
     "text": [
      "8130\n"
     ]
    }
   ],
   "source": [
    "def segundos(horas,mins,segs):\n",
    "    mins = mins + horas * 60\n",
    "    segs = segs + mins * 60\n",
    "    return segs\n",
    "print(segundos(2,15,30))"
   ]
  },
  {
   "cell_type": "markdown",
   "metadata": {},
   "source": [
    "## Exercício 3.6\n",
    "\n",
    "Considere um programa que começa com a atribuição de uma lista de valores de temperatura (em\n",
    "Celsius) à variável `tempC`:"
   ]
  },
  {
   "cell_type": "code",
   "execution_count": 8,
   "metadata": {},
   "outputs": [],
   "source": [
    "tempC = [-5,0,5,10,15,20,25]"
   ]
  },
  {
   "cell_type": "markdown",
   "metadata": {},
   "source": [
    "* Escreva um ciclo `for` que imprime cada um dos valores da lista `tempC` numa linha separada."
   ]
  },
  {
   "cell_type": "code",
   "execution_count": 9,
   "metadata": {},
   "outputs": [
    {
     "name": "stdout",
     "output_type": "stream",
     "text": [
      "-5\n",
      "0\n",
      "5\n",
      "10\n",
      "15\n",
      "20\n",
      "25\n"
     ]
    }
   ],
   "source": [
    "for temp in tempC:\n",
    "    print(temp)"
   ]
  },
  {
   "cell_type": "markdown",
   "metadata": {},
   "source": [
    "* Imprima os mesmos valores, gerando-os com a função `range`."
   ]
  },
  {
   "cell_type": "code",
   "execution_count": 10,
   "metadata": {},
   "outputs": [
    {
     "name": "stdout",
     "output_type": "stream",
     "text": [
      "-5\n",
      "0\n",
      "5\n",
      "10\n",
      "15\n",
      "20\n",
      "25\n"
     ]
    }
   ],
   "source": [
    "for temp in range(-5,30,5):\n",
    "    print(temp)"
   ]
  },
  {
   "cell_type": "markdown",
   "metadata": {},
   "source": [
    "* Escreva um ciclo `while` que produza o mesmo resultado da alínea anterior."
   ]
  },
  {
   "cell_type": "code",
   "execution_count": 11,
   "metadata": {},
   "outputs": [
    {
     "name": "stdout",
     "output_type": "stream",
     "text": [
      "-5\n",
      "0\n",
      "5\n",
      "10\n",
      "15\n",
      "20\n",
      "25\n"
     ]
    }
   ],
   "source": [
    "temp = -5\n",
    "while (temp <= 25):\n",
    "    print(temp)\n",
    "    temp += 5"
   ]
  },
  {
   "cell_type": "markdown",
   "metadata": {},
   "source": [
    "* Escreva um ciclo em que para os valores de temperatura acima, em cada linha imprime o valor em Celsius e o valor correspondente em Fahrenheit."
   ]
  },
  {
   "cell_type": "code",
   "execution_count": 12,
   "metadata": {},
   "outputs": [
    {
     "name": "stdout",
     "output_type": "stream",
     "text": [
      "-5 23.0\n",
      "0 32.0\n",
      "5 41.0\n",
      "10 50.0\n",
      "15 59.0\n",
      "20 68.0\n",
      "25 77.0\n"
     ]
    }
   ],
   "source": [
    "def fahrenheit(c):\n",
    "    return c * (9/5) + 32\n",
    "for temp in tempC:\n",
    "    print(temp,fahrenheit(temp))"
   ]
  },
  {
   "cell_type": "markdown",
   "metadata": {},
   "source": [
    "## Exercício 3.7\n",
    "\n",
    "Considere um programa que começa com a seguinte atribuição:"
   ]
  },
  {
   "cell_type": "code",
   "execution_count": 13,
   "metadata": {},
   "outputs": [],
   "source": [
    "xs = [12, 10, 32, 3, 66, 17, 42, 99, 20]"
   ]
  },
  {
   "cell_type": "markdown",
   "metadata": {},
   "source": [
    "* Escreva um ciclo `for` que imprime cada um dos números da lista xs numa linha separada."
   ]
  },
  {
   "cell_type": "code",
   "execution_count": 14,
   "metadata": {},
   "outputs": [
    {
     "name": "stdout",
     "output_type": "stream",
     "text": [
      "12\n",
      "10\n",
      "32\n",
      "3\n",
      "66\n",
      "17\n",
      "42\n",
      "99\n",
      "20\n"
     ]
    }
   ],
   "source": [
    "for x in xs:\n",
    "    print(x)"
   ]
  },
  {
   "cell_type": "markdown",
   "metadata": {},
   "source": [
    "* Escreva um outro ciclo em que, em cada linha, imprime o número, o seu quadrado, e a sua raiz quadrada."
   ]
  },
  {
   "cell_type": "code",
   "execution_count": 15,
   "metadata": {},
   "outputs": [
    {
     "name": "stdout",
     "output_type": "stream",
     "text": [
      "12 144 3.4641016151377544\n",
      "10 100 3.1622776601683795\n",
      "32 1024 5.656854249492381\n",
      "3 9 1.7320508075688772\n",
      "66 4356 8.12403840463596\n",
      "17 289 4.123105625617661\n",
      "42 1764 6.48074069840786\n",
      "99 9801 9.9498743710662\n",
      "20 400 4.47213595499958\n"
     ]
    }
   ],
   "source": [
    "for x in xs:\n",
    "    print(x,x**2,math.sqrt(x))"
   ]
  },
  {
   "cell_type": "markdown",
   "metadata": {},
   "source": [
    "* Escreva um ciclo que soma todos os números em xs usando uma variável auxiliar total, e imprime numa linha separada cada um dos números da lista e a soma parcial até esse número."
   ]
  },
  {
   "cell_type": "code",
   "execution_count": 16,
   "metadata": {},
   "outputs": [
    {
     "name": "stdout",
     "output_type": "stream",
     "text": [
      "12 0\n",
      "10 12\n",
      "32 22\n",
      "3 54\n",
      "66 57\n",
      "17 123\n",
      "42 140\n",
      "99 182\n",
      "20 281\n"
     ]
    }
   ],
   "source": [
    "total = 0\n",
    "for x in xs:\n",
    "    print(x,total)\n",
    "    total += x"
   ]
  },
  {
   "cell_type": "markdown",
   "metadata": {},
   "source": [
    "## Exercício 3.10\n",
    "\n",
    "Usando o módulo `turtle`, escreva uma função poligono_reg(t,n,lado), sem valor de retorno,\n",
    "que faz uma tartaruga t desenhar um polígono regular com n lados de comprimento lado. Por exemplo,\n",
    "com poligono_reg(t, 3, 100) a tartaruga t desenha um triângulo equilátero com 100 pixels de lado.\n",
    "\n",
    "Nota: a soma dos ângulos externos de um polígono é $360°$"
   ]
  },
  {
   "cell_type": "code",
   "execution_count": null,
   "metadata": {},
   "outputs": [],
   "source": [
    "def poligono_reg(t,n,lado):\n",
    "    deg = 360 / n\n",
    "    for _ in range(n):\n",
    "        t.forward(lado)\n",
    "        t.right(deg)\n",
    "\n",
    "window = turtle.Screen()\n",
    "alex = turtle.Turtle()\n",
    "poligono_reg(alex,3,100)\n",
    "window.mainloop()"
   ]
  },
  {
   "cell_type": "markdown",
   "metadata": {},
   "source": [
    "## Exercício 3.12\n",
    "\n",
    "Usando o módulo turtle, escreva uma função friso(t, n, lado), sem valor de retorno, que desenha um friso em forma de muralha com n ameias em que a largura de cada segmento é lado. Por exemplo: com friso(t, 3, 50) uma tartaruga t produz o desenho da figura seguinte.\n",
    "\n",
    "Note que a tartaruga deve terminar com a orientação original"
   ]
  },
  {
   "cell_type": "code",
   "execution_count": null,
   "metadata": {},
   "outputs": [],
   "source": [
    "def friso(t,n,lado):\n",
    "    t.right(90)\n",
    "    for _ in range(n):\n",
    "        t.forward(lado)\n",
    "        t.left(90)\n",
    "        t.forward(lado)\n",
    "        t.right(90)\n",
    "        t.forward(lado)\n",
    "        t.right(90)\n",
    "        t.forward(lado)\n",
    "        t.left(90)\n",
    "        \n",
    "window = turtle.Screen()\n",
    "alex = turtle.Turtle()\n",
    "friso(alex,3,100)\n",
    "window.mainloop()"
   ]
  },
  {
   "cell_type": "markdown",
   "metadata": {},
   "source": [
    "## Exercício 3.15\n",
    "\n",
    "O preço atual da gasolina é 1.63 euros por litro. Implemente a função valor(v) que, dada a lista\n",
    "v de litros abastecidos numa viagem, retorna o valor total despendido.\n",
    "Por exemplo, o resultado de `valor([24.8, 49.1])` é 120.457."
   ]
  },
  {
   "cell_type": "code",
   "execution_count": 1,
   "metadata": {},
   "outputs": [
    {
     "data": {
      "text/plain": [
       "120.457"
      ]
     },
     "execution_count": 1,
     "metadata": {},
     "output_type": "execute_result"
    }
   ],
   "source": [
    "def valor(v):\n",
    "    total = 0\n",
    "    for litro in v:\n",
    "        total += litro * 1.63\n",
    "    return total\n",
    "valor([24.8, 49.1])"
   ]
  },
  {
   "cell_type": "code",
   "execution_count": 3,
   "metadata": {},
   "outputs": [
    {
     "data": {
      "text/plain": [
       "120.457"
      ]
     },
     "execution_count": 3,
     "metadata": {},
     "output_type": "execute_result"
    }
   ],
   "source": [
    "def valor_funcional(v):\n",
    "    return sum(map(lambda litro : litro * 1.63,v))\n",
    "valor_funcional([24.8, 49.1])"
   ]
  },
  {
   "cell_type": "markdown",
   "metadata": {},
   "source": [
    "## Exercício 4.3\n",
    "\n",
    "Escreva uma função classifica(p) que, dada a pontuação p obtida num exame (de 0 a 100), retorna\n",
    "uma mensagem de classificação de acordo com a tabela seguinte. Utilize essa função para escrever um\n",
    "programa que imprime o número, nome e classificação segundo essa tabela da lista de alunos que se segue\n",
    "(cada tuplo contém o número de aluno, o seu nome, e a classificação de 0 a 100).\n",
    "\n",
    "|   pontuação               |  mensagem      | \n",
    "|:-------------------------:|:--------------:|\n",
    "| $$< 0 \\,\\vee > 100$$      | \"inválido\"     |\n",
    "| $$< 50$$                  | \"insuficiente\" |\n",
    "| $$\\geq 50 \\,\\wedge < 70$$ | \"suficiente\"   |\n",
    "| $$\\geq 70 \\,\\wedge < 80$$ | \"bom\"          |\n",
    "| $$\\geq 80 \\,\\wedge < 90$$ | \"muito bom\"    |\n",
    "| $$\\geq 90$$               | \"excelente\"    |"
   ]
  },
  {
   "cell_type": "code",
   "execution_count": 4,
   "metadata": {},
   "outputs": [],
   "source": [
    "studs = [(\"UP194187304\", \"José Fonseca\", 97),\\\n",
    "         (\"UP194209183\", \"Manuel Ferreira\", 87),\\\n",
    "         (\"UP194294793\", \"Maria Ramos\", 50),\\\n",
    "         (\"UP194399128\", \"Antonio Fernandes\", 45),\\\n",
    "         (\"UP194739873\", \"Júlia Pinto\", -1),\\\n",
    "         (\"UP194739889\", \"Manuela Faria\", 50)]"
   ]
  },
  {
   "cell_type": "code",
   "execution_count": 16,
   "metadata": {},
   "outputs": [
    {
     "name": "stdout",
     "output_type": "stream",
     "text": [
      "UP194187304 José Fonseca excelente\n",
      "UP194209183 Manuel Ferreira muito bom\n",
      "UP194294793 Maria Ramos suficiente\n",
      "UP194399128 Antonio Fernandes insuficiente\n",
      "UP194739873 Júlia Pinto insuficiente\n",
      "UP194739889 Manuela Faria suficiente\n"
     ]
    }
   ],
   "source": [
    "def converte_nota(n):\n",
    "    if n < 0 | n > 100: return \"inválido\"\n",
    "    elif n < 50: return \"insuficiente\"\n",
    "    elif n >=50 and n < 70: return \"suficiente\"\n",
    "    elif n >= 70 and n < 80: return \"bom\"\n",
    "    elif n >= 80 and n < 90: return \"muito bom\"\n",
    "    else: return \"excelente\"\n",
    "def classifica(p):\n",
    "    for numero,nome,nota in studs:\n",
    "        print(numero,nome,converte_nota(nota))\n",
    "classifica(studs)"
   ]
  },
  {
   "cell_type": "markdown",
   "metadata": {},
   "source": [
    "## Exercício 4.8\n",
    "\n",
    "A fórmula de Leibniz para aproximar $\\pi$ é:\n",
    "$$ \\pi = 4 x (1 - \\frac{1}{3} + \\frac{1}{5} - \\frac{1}{7} + \\frac{1}{9} + \\dots) = 4 * \\sum_{n=0}^{\\infty} \\frac{(-1)^n}{2 n + 1} $$\n",
    "\n",
    "Implemente a função leibniz(k) que resulta no somatório dos primeiros k termos desta série. Documente\n",
    "a sua função com uma docstring."
   ]
  },
  {
   "cell_type": "code",
   "execution_count": 17,
   "metadata": {},
   "outputs": [
    {
     "data": {
      "text/plain": [
       "2.8952380952380956"
      ]
     },
     "execution_count": 17,
     "metadata": {},
     "output_type": "execute_result"
    }
   ],
   "source": [
    "def leibniz(k):\n",
    "    \"\"\"Calcula a fórmula de Leibniz para os primeiros k termos\"\"\"\n",
    "    return 4 * sum([ ((-1)**n / (2 * n + 1)) for n in range(k) ])\n",
    "leibniz(4)"
   ]
  },
  {
   "cell_type": "markdown",
   "metadata": {},
   "source": [
    "## Exercício 4.14\n",
    "\n",
    "Implemente a função sum_within(x, a, b) que calcula a soma dos valores da lista x que estão\n",
    "compreendidos entre a e b.\n",
    "Por exemplo, o resultado de `sum_within([4, 7, 44, 23], 17, 46)` é 67."
   ]
  },
  {
   "cell_type": "code",
   "execution_count": 18,
   "metadata": {},
   "outputs": [
    {
     "data": {
      "text/plain": [
       "67"
      ]
     },
     "execution_count": 18,
     "metadata": {},
     "output_type": "execute_result"
    }
   ],
   "source": [
    "def sum_within(x,a,b):\n",
    "    s = 0\n",
    "    for n in x:\n",
    "        if n >= a and n <= b: s+= n\n",
    "    return s\n",
    "sum_within([4, 7, 44, 23], 17, 46)"
   ]
  },
  {
   "cell_type": "code",
   "execution_count": 19,
   "metadata": {},
   "outputs": [
    {
     "data": {
      "text/plain": [
       "67"
      ]
     },
     "execution_count": 19,
     "metadata": {},
     "output_type": "execute_result"
    }
   ],
   "source": [
    "def sum_wihin_compreensao(x,a,b):\n",
    "    return sum([n  for n in x if n >= a and n <= b ])\n",
    "sum_wihin_compreensao([4, 7, 44, 23], 17, 46)"
   ]
  },
  {
   "cell_type": "markdown",
   "metadata": {},
   "source": [
    "## Exercício 6.5\n",
    "\n",
    "Escreva a função maximo2(xs) que calcula o segundo maior valor numa lista xs. Verifique que o procedimento retorna o valor correcto quando o maior valor ocorre mais do que uma vez.\n",
    "\n",
    "Nota: Ignore a palavra distinto no enunciado original.\n",
    "\n",
    "Exemplos:\n",
    "```\n",
    ">>> maximo2([3, -2, 1, 0, -2, 1])\n",
    "1\n",
    ">>> maximo2([1, 3, 2, 3, 0])\n",
    "2\n",
    "```"
   ]
  },
  {
   "cell_type": "code",
   "execution_count": 36,
   "metadata": {},
   "outputs": [
    {
     "name": "stdout",
     "output_type": "stream",
     "text": [
      "1\n",
      "2\n"
     ]
    }
   ],
   "source": [
    "def maximo2(xs):\n",
    "    m1 = float('-inf')\n",
    "    m2 = float('-inf')\n",
    "    for x in xs:\n",
    "        if x > m1: m1=x\n",
    "        elif x > m2 and x != m1: m2=x\n",
    "    return m2\n",
    "print(maximo2([3, -2, 1, 0, -2, 1]))\n",
    "print(maximo2([1, 3, 2, 3, 0]))"
   ]
  },
  {
   "cell_type": "code",
   "execution_count": 35,
   "metadata": {},
   "outputs": [
    {
     "name": "stdout",
     "output_type": "stream",
     "text": [
      "1\n",
      "2\n"
     ]
    }
   ],
   "source": [
    "def maximo2_set(xs):\n",
    "    non_reps = set(xs)\n",
    "    non_reps.remove(max(non_reps))\n",
    "    return max(non_reps)\n",
    "print(maximo2_set([3, -2, 1, 0, -2, 1]))\n",
    "print(maximo2_set([1, 3, 2, 3, 0]))"
   ]
  },
  {
   "cell_type": "markdown",
   "metadata": {},
   "source": [
    "## Exercício 6.7\n",
    "\n",
    "Escreva uma função repetidos(lista) que testa se há elementos repetidos numa lista; o resultado\n",
    "deve ser um valor lógico. A sua função deve funcionar com listas de vários tipos (e.g. de números ou\n",
    "de cadeias de carateres).\n",
    "\n",
    "Exemplos:\n",
    "\n",
    "```\n",
    ">>> repetidos(['ola', 'ole', 'abba', 'ole'])\n",
    "True\n",
    ">>> repetidos([3, 2, -5, 0, 1])\n",
    "False\n",
    "```"
   ]
  },
  {
   "cell_type": "code",
   "execution_count": 30,
   "metadata": {},
   "outputs": [
    {
     "name": "stdout",
     "output_type": "stream",
     "text": [
      "True\n",
      "False\n"
     ]
    }
   ],
   "source": [
    "def repetidos(lista):\n",
    "    vistos = []\n",
    "    for x in lista:\n",
    "        if x in vistos: return True\n",
    "        else: vistos.append(x)\n",
    "    return False\n",
    "print(repetidos(['ola', 'ole', 'abba', 'ole']))\n",
    "print(repetidos([3, 2, -5, 0, 1]))"
   ]
  },
  {
   "cell_type": "code",
   "execution_count": 29,
   "metadata": {},
   "outputs": [
    {
     "name": "stdout",
     "output_type": "stream",
     "text": [
      "True\n",
      "False\n"
     ]
    }
   ],
   "source": [
    "def repetidos_set(lista):\n",
    "    return len(lista) != len(set(lista))\n",
    "print(repetidos_set(['ola', 'ole', 'abba', 'ole']))\n",
    "print(repetidos_set([3, 2, -5, 0, 1]))"
   ]
  },
  {
   "cell_type": "markdown",
   "metadata": {},
   "source": [
    "## Exercício 5.1\n",
    "\n",
    "Escreva duas definições da função conta_letras(txt) que retorna o número de letras (maiúsculas\n",
    "ou minúsculas) sem acentos da cadeia de caracteres txt; numa das versões compare os carateres de\n",
    "txt com 'a', 'A', 'z', 'Z' e na outra utilize ``string.letters`` ou ``string.ascii_letters``.\n",
    "\n",
    "Nota: No exercício original dizia para utilizar apenas ``string.letters``, que pode não existir nas versões mais recentes do Python.\n",
    "\n",
    "Exemplo:\n",
    "\n",
    "```\n",
    ">>> conta_letras('Ola, mundo!')\n",
    "8\n",
    "```"
   ]
  },
  {
   "cell_type": "code",
   "execution_count": 46,
   "metadata": {},
   "outputs": [
    {
     "data": {
      "text/plain": [
       "8"
      ]
     },
     "execution_count": 46,
     "metadata": {},
     "output_type": "execute_result"
    }
   ],
   "source": [
    "def is_letra(c):\n",
    "    return (c >= 'a' and c <= 'z') or (c >= 'A' and c <= 'Z')\n",
    "def conta_letras(txt):\n",
    "    n = 0\n",
    "    for c in txt:\n",
    "        if is_letra(c): n+=1\n",
    "    return n\n",
    "conta_letras('Ola, mundo!')"
   ]
  },
  {
   "cell_type": "code",
   "execution_count": null,
   "metadata": {},
   "outputs": [],
   "source": [
    "def conta_letras_compreensao(txt):\n",
    "    return len([ c for c in txt if is_letra(c) ])\n",
    "conta_letras_compreensao('Ola, mundo!')"
   ]
  },
  {
   "cell_type": "code",
   "execution_count": 45,
   "metadata": {},
   "outputs": [
    {
     "data": {
      "text/plain": [
       "8"
      ]
     },
     "execution_count": 45,
     "metadata": {},
     "output_type": "execute_result"
    }
   ],
   "source": [
    "def is_letra2(c):\n",
    "    return c.lower() in string.ascii_letters\n",
    "def conta_letras_compreensao2(txt):\n",
    "    return len([ c for c in txt if is_letra2(c) ])\n",
    "conta_letras_compreensao2('Ola, mundo!')"
   ]
  },
  {
   "cell_type": "markdown",
   "metadata": {},
   "source": [
    "## Exercício 5.3\n",
    "\n",
    "Escreva uma definição da função filtra_letras(txt) que, dada uma cadeia de caracteres txt,\n",
    "retorna uma cadeia com apenas as suas letras maiúsculas ou minúsculas.\n",
    "\n",
    "Exemplo:\n",
    "\n",
    "```\n",
    ">>> filtra_letras('Ola!, -- disse ele...')\n",
    "'Oladisseele'\n",
    "````"
   ]
  },
  {
   "cell_type": "code",
   "execution_count": 47,
   "metadata": {},
   "outputs": [
    {
     "data": {
      "text/plain": [
       "'Oladisseele'"
      ]
     },
     "execution_count": 47,
     "metadata": {},
     "output_type": "execute_result"
    }
   ],
   "source": [
    "def filtra_letras(txt):\n",
    "    res = \"\"\n",
    "    for c in txt:\n",
    "        if is_letra(c): res+=c\n",
    "    return res\n",
    "filtra_letras('Ola!, -- disse ele...')"
   ]
  },
  {
   "cell_type": "code",
   "execution_count": 50,
   "metadata": {},
   "outputs": [
    {
     "data": {
      "text/plain": [
       "'Oladisseele'"
      ]
     },
     "execution_count": 50,
     "metadata": {},
     "output_type": "execute_result"
    }
   ],
   "source": [
    "def filtra_letras_compreensao(txt):\n",
    "    return \"\".join([c for c in txt if is_letra(c) ])\n",
    "filtra_letras_compreensao('Ola!, -- disse ele...')"
   ]
  },
  {
   "cell_type": "markdown",
   "metadata": {},
   "source": [
    "## Exercício 5.5\n",
    "\n",
    "Uma cadeia de carateres é um palíndromo se as sequências obtidas lida da esquerda para a direita\n",
    "e vice-versa são iguais, independentemente das letras serem maiúsculas ou minúsculas. Exemplo:\n",
    "\"reviveR\" é um palíndromo.\n",
    "Escreva uma definição da função palindromo(txt) que verifica se uma cadeia de caracteres é um\n",
    "palindromo; o resultado deve ser True ou False."
   ]
  },
  {
   "cell_type": "code",
   "execution_count": 57,
   "metadata": {},
   "outputs": [
    {
     "name": "stdout",
     "output_type": "stream",
     "text": [
      "True\n",
      "True\n",
      "False\n"
     ]
    }
   ],
   "source": [
    "def palindrono(txt):\n",
    "    for i in range(len(txt)//2):\n",
    "        if txt[i].lower() != txt[-i-1].lower(): return False\n",
    "    return True\n",
    "\n",
    "print(palindrono(\"reviveR\"))\n",
    "print(palindrono(\"aaaa\"))\n",
    "print(palindrono(\"ola olo\"))"
   ]
  },
  {
   "cell_type": "markdown",
   "metadata": {},
   "source": [
    "## Exercício 5.8\n",
    "\n",
    "A cifra de Cesar consiste em substituir cada carater alfabético de uma mensagem pelo carater\n",
    "que está k posições à sua direita, na ordem alfabética. Escreva a função cesar(k,txt) que retorna o\n",
    "valor cifrado de txt usando a “chave” k."
   ]
  },
  {
   "cell_type": "code",
   "execution_count": 59,
   "metadata": {},
   "outputs": [
    {
     "data": {
      "text/plain": [
       "'phqvdjhp#vhfuhwd'"
      ]
     },
     "execution_count": 59,
     "metadata": {},
     "output_type": "execute_result"
    }
   ],
   "source": [
    "def cesar(k,txt):\n",
    "    return \"\".join([ chr(ord(c)+k) for c in txt ])\n",
    "cesar(3,\"mensagem secreta\")"
   ]
  },
  {
   "cell_type": "markdown",
   "metadata": {},
   "source": [
    "## Exercício 5.11\n",
    "\n",
    "Escreva a função remove_py_com(txt) que remove comentários de linhas de código Python, i.e.,\n",
    "os sinais de cardinal # e tudo o que estiver à sua direita. Note que se o cardinal estiver dentro de uma\n",
    "string não é um comentário (considere apenas as strings delimitadas por aspas (\")).\n",
    "\n",
    "Exemplo:\n",
    "\n",
    "```\n",
    ">>> remove_py_com(\"def f(x): # f function \")\n",
    "'def f(x): '\n",
    "```\n",
    "\n",
    "Sugestão: use ciclos while. Nota: não é necessário usar métodos da classe str."
   ]
  },
  {
   "cell_type": "code",
   "execution_count": 9,
   "metadata": {},
   "outputs": [
    {
     "name": "stdout",
     "output_type": "stream",
     "text": [
      "def f(x): \n",
      "def \"#\" f(x) \n"
     ]
    }
   ],
   "source": [
    "def remove_py_com(txt):\n",
    "    stop = False\n",
    "    isstring = False\n",
    "    i = 0\n",
    "    while (not stop and i < len(txt)):\n",
    "        if txt[i] == '\\\"': isstring = not isstring\n",
    "        elif txt[i] == '#' and not isstring: stop=True\n",
    "        i+=1\n",
    "    return txt[:i-1]\n",
    "    \n",
    "print(remove_py_com(\"def f(x): # f function \"))\n",
    "print(remove_py_com('def \"#\" f(x) # comentário'))"
   ]
  },
  {
   "cell_type": "markdown",
   "metadata": {},
   "source": [
    "## Exercício 6.1\n",
    "\n",
    "Defina uma função forte(passwd) que verifica se uma palavra-passe, dada pela cadeia de caracteres passwd, é forte. Considera-se que a palavra-passe é forte se tiver 8 caracteres ou mais, e incluir\n",
    "pelo menos uma letra maiúscula, uma letra minúscula e um algarismo. O resultado deve ser um valor\n",
    "lógico (True ou False).\n",
    "\n",
    "```\n",
    ">>> forte('9EwL56')\n",
    "False\n",
    ">>> forte('HXKW1393')\n",
    "False\n",
    ">>> forte('ffu4G7Fghjk')\n",
    "True\n",
    "```"
   ]
  },
  {
   "cell_type": "code",
   "execution_count": 1,
   "metadata": {},
   "outputs": [
    {
     "name": "stdout",
     "output_type": "stream",
     "text": [
      "False\n",
      "False\n",
      "True\n"
     ]
    }
   ],
   "source": [
    "def forte(passwd):\n",
    "    maiusculas = { c for c in passwd if c.isupper() }\n",
    "    minusculas = { c for c in passwd if c.islower() }\n",
    "    algarismos = { c for c in passwd if c.isdigit() }\n",
    "    return len(passwd) >= 8 and len(maiusculas) > 0 and len(minusculas) > 0 and len(algarismos) > 0\n",
    "\n",
    "print(forte('9EwL56'))\n",
    "print(forte('HXKW1393'))\n",
    "print(forte('ffu4G7Fghjk'))"
   ]
  },
  {
   "cell_type": "code",
   "execution_count": null,
   "metadata": {},
   "outputs": [],
   "source": []
  }
 ],
 "metadata": {
  "kernelspec": {
   "display_name": "Python 3",
   "language": "python",
   "name": "python3"
  },
  "language_info": {
   "codemirror_mode": {
    "name": "ipython",
    "version": 3
   },
   "file_extension": ".py",
   "mimetype": "text/x-python",
   "name": "python",
   "nbconvert_exporter": "python",
   "pygments_lexer": "ipython3",
   "version": "3.9.2"
  }
 },
 "nbformat": 4,
 "nbformat_minor": 4
}
