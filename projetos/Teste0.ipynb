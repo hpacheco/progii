{
 "cells": [
  {
   "cell_type": "markdown",
   "id": "controlled-spyware",
   "metadata": {},
   "source": [
    "## Resolução dos exercícios do Teste 0"
   ]
  },
  {
   "cell_type": "code",
   "execution_count": null,
   "id": "peripheral-edward",
   "metadata": {},
   "outputs": [],
   "source": []
  },
  {
   "cell_type": "markdown",
   "id": "serious-ordering",
   "metadata": {},
   "source": [
    "### Exercício 2.10\n",
    "\n",
    "Normalmente calcula-se juros com base num número inteiro de períodos (o número de anos, por exemplo). No entanto, em algumas situações é útil calcular o juro como uma função contínua do tempo.\n",
    "A fórmula para calcular o valor de um investimento ao longo do tempo t é apresentada ao lado, onde $P_0$ é o montante inicial investido, $r$ é a taxa de juro e $t$ é o tempo que passou desde o momento em que se fez o investimento.\n",
    "\n",
    "$P(t) = P_0 e^{rt}$\n",
    "\n",
    "Escreva uma função $P(P_0,r,t)$ que retorne o valor de um investimento $P_0$ no instante $t$, a uma taxa de juro $r$."
   ]
  },
  {
   "cell_type": "code",
   "execution_count": 1,
   "id": "cosmetic-priest",
   "metadata": {},
   "outputs": [],
   "source": [
    "def juros(p0,r,t):\n",
    "    return p0 * math.exp(r * t)"
   ]
  },
  {
   "cell_type": "markdown",
   "id": "swedish-valuation",
   "metadata": {},
   "source": [
    "## Exercício 3.6\n",
    "\n",
    "Solução no [Projeto 0](Projeto0.ipnyb)\n",
    "\n",
    "## Exercício 4.7\n",
    "\n",
    "Podemos contar algarismos decimais na respresentação de um número fazendo divisões inteiras por dez. Por exemplo: 9733 tem 4 algarismos porque podemos fazer quatro divisões sucessivas por 10 obtendo os quocientes 973, 97, 9 e 0 (paramos quando chegamos a zero).\n",
    "\n",
    "Escreva uma função algarismos(n) cujo resultado é o número de algarismos decimais de n. Sugestão: use um ciclo `while` para repetir as divisões sucessivas e contar o número de iterações."
   ]
  },
  {
   "cell_type": "code",
   "execution_count": 5,
   "id": "running-jacket",
   "metadata": {},
   "outputs": [
    {
     "name": "stdout",
     "output_type": "stream",
     "text": [
      "1\n",
      "4\n"
     ]
    }
   ],
   "source": [
    "def algarismos(n):\n",
    "    i = 0\n",
    "    while (n > 0):\n",
    "        n //= 10\n",
    "        i+=1\n",
    "    return i\n",
    "print(algarismos(9))\n",
    "print(algarismos(1234))"
   ]
  },
  {
   "cell_type": "markdown",
   "id": "vertical-bosnia",
   "metadata": {},
   "source": [
    "## Exercício 5.6\n",
    "\n",
    "Uma cadeia é um palíndromo se se lê da mesma forma nos dois sentidos, ignorando os espaços entre letras, sinais de pontuação e/ou a troca de maiúsculas e minúsculas. Assim, os exemplos seguintes são palíndromos:\n",
    "\n",
    "````\n",
    "\"Amora me tem aroma.\"\n",
    "\"Madam, I'm Adam.\"\n",
    "\"A man, a plan, a canal: Panama\"\n",
    "````\n",
    "\n",
    "Escreva uma função `palindrono_geral(txt)` para testar se uma cadeia de caracteres txt é um palíndromo neste sentido geral.\n",
    "\n",
    "Sugestão: pode resolver este problema combinando os métodos `lower()` e `isalpha()` de cadeias de carateres."
   ]
  },
  {
   "cell_type": "code",
   "execution_count": 13,
   "id": "interim-indication",
   "metadata": {
    "scrolled": true
   },
   "outputs": [
    {
     "name": "stdout",
     "output_type": "stream",
     "text": [
      "True\n",
      "True\n",
      "True\n",
      "False\n"
     ]
    }
   ],
   "source": [
    "def palindrono(txt):\n",
    "    # só temos que percorrer a string até meio\n",
    "    for i in range(len(txt)//2):\n",
    "        # a cada passo compara com o caracter na posição inversa\n",
    "        if txt[i] != txt[-1-i]: return False\n",
    "    return True\n",
    "\n",
    "def palindrono_geral(txt):\n",
    "    alphas = [ c for c in txt.lower() if c.isalpha() ]\n",
    "    return palindrono(alphas)\n",
    "\n",
    "print(palindrono_geral(\"Amora me tem aroma.\"))\n",
    "print(palindrono_geral(\"Madam, I'm Adam.\"))\n",
    "print(palindrono_geral(\"A man, a plan, a canal: Panama\"))\n",
    "print(palindrono_geral(\"Amora não aroma\"))"
   ]
  },
  {
   "cell_type": "markdown",
   "id": "surface-suggestion",
   "metadata": {},
   "source": [
    "## Exercício 6.2\n",
    "\n",
    "Escreva uma função `ocorrencias(txt,c)` que retorna uma lista com os índices das ocorrências de um caracter `c` na cadeia `txt`.\n",
    "\n",
    "Por exemplo: `ocorrencias('banana','a') == [1, 3, 5]`"
   ]
  },
  {
   "cell_type": "code",
   "execution_count": 15,
   "id": "african-formula",
   "metadata": {},
   "outputs": [
    {
     "name": "stdout",
     "output_type": "stream",
     "text": [
      "[1, 3, 5]\n"
     ]
    }
   ],
   "source": [
    "def ocorrencias(txt,c):\n",
    "    cs = []\n",
    "    for i,t in enumerate(txt):\n",
    "        if t==c: cs.append(i)\n",
    "    return cs\n",
    "\n",
    "print(ocorrencias('banana','a'))"
   ]
  }
 ],
 "metadata": {
  "kernelspec": {
   "display_name": "Python 3",
   "language": "python",
   "name": "python3"
  },
  "language_info": {
   "codemirror_mode": {
    "name": "ipython",
    "version": 3
   },
   "file_extension": ".py",
   "mimetype": "text/x-python",
   "name": "python",
   "nbconvert_exporter": "python",
   "pygments_lexer": "ipython3",
   "version": "3.9.2"
  }
 },
 "nbformat": 4,
 "nbformat_minor": 5
}
