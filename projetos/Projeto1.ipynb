{
 "cells": [
  {
   "cell_type": "markdown",
   "metadata": {},
   "source": [
    "# Projeto 1 - Análise de texto\n",
    "\n",
    "Neste primeiro projeto vamos relembrar alguns conceitos base da programação em Python e aplicá-los no processamento de ficheiros de texto.\n",
    "\n",
    "Crie um novo ficheiro `projeto1.py` para desenvolver o projeto e abra-o com um IDE à sua escolha.\n",
    "\n",
    "Neste projeto vamos processar o texto integral de *Os Lusíadas* de *Luís Vaz de Camões* e extrair métricas simples.\n",
    "\n",
    "## Exercício 1\n",
    "\n",
    "Defina uma função `sem_pontuacao` que remova toda a pontuação de uma string."
   ]
  },
  {
   "cell_type": "code",
   "execution_count": null,
   "metadata": {},
   "outputs": [],
   "source": [
    "def sem_pontuacao(str):\n",
    "    ...\n",
    "print (sem_pontuacao('Olá mundo! Vou começar a programar Python.'));"
   ]
  },
  {
   "cell_type": "markdown",
   "metadata": {},
   "source": [
    "Resultado esperado: \n",
    "```\n",
    "Olá mundo Vou programar em Python\n",
    "```\n",
    "\n",
    "## Exercício 2\n",
    "\n",
    "Defina uma função `palavras` que retorna a lista de palavras presentes numa string."
   ]
  },
  {
   "cell_type": "code",
   "execution_count": null,
   "metadata": {},
   "outputs": [],
   "source": [
    "def palavras(str):\n",
    "    ...\n",
    "print (palavras('Olá mundo\\nVou começar a programar Python'));"
   ]
  },
  {
   "cell_type": "markdown",
   "metadata": {},
   "source": [
    "Resultado esperado:\n",
    "```\n",
    "['Olá','mundo','Vou','começar','a','programar','Python']\n",
    "```\n",
    "\n",
    "## Exercício 4\n",
    "\n",
    "Defina uma função `minusculas` que converte uma lista de palavras em minúsculas:"
   ]
  },
  {
   "cell_type": "code",
   "execution_count": null,
   "metadata": {},
   "outputs": [],
   "source": [
    "def minusculas(lista):\n",
    "    ...\n",
    "print (minusculas(['Olá','mundo','VOU','começar','a','programar','Python']))"
   ]
  },
  {
   "cell_type": "markdown",
   "metadata": {},
   "source": [
    "Resultado esperado:\n",
    "```\n",
    "['olá','mundo','vou','começar','a','programar','python']\n",
    "```\n",
    "\n",
    "## Exercício 3\n",
    "\n",
    "Defina uma função `conta` que recebe uma string e uma palavra, e conta quantas vezes uma palavra ocorre na string, ignorando maiúsculas e minúsculas:"
   ]
  },
  {
   "cell_type": "code",
   "execution_count": null,
   "metadata": {},
   "outputs": [],
   "source": [
    "def conta(str,lista):\n",
    "    ...\n",
    "print (conta ('Olá mundo do python\\nVou começar a programar Python','Python'))"
   ]
  },
  {
   "cell_type": "markdown",
   "metadata": {},
   "source": [
    "Resultado esperado:\n",
    "```\n",
    "2\n",
    "```\n",
    "\n",
    "## Tarefa 1\n",
    "\n",
    "Faça download para uma pasta local do ficheiro [lusiadas.txt](../dados/lusiadas.txt), que contém o texto integral da obra *Os Lusíadas* de *Luís Vaz de Camões*.\n",
    "\n",
    "Leia o conteúdo do ficheiro ``lusiadas.txt`` para uma string.\n",
    "\n",
    "## Exercício 5\n",
    "\n",
    "Conte quantas vezes a palavra ``'Portugal'`` aparece em todo o texto.\n",
    "\n",
    "## Tarefa 2\n",
    "\n",
    "Escreva num ficheiro ``indice.txt`` um índice de cantos e estrofes para linhas no ficheiro original, com o seguinte formato (repare no alinhamento vertical; as linhas impressas no ecrã devem ter todas o mesmo comprimento, mas os números exatos de espaços ou hífens por linha ficam ao critério dos alunos):\n",
    "\n",
    "```\n",
    "Canto Primeiro ---- 4\n",
    "1              ---- 6\n",
    "...\n",
    "Canto Décimo --- 9487\n",
    "...\n",
    "156          -- 11039\n",
    "```\n",
    "\n",
    "## Tarefa 3\n",
    "\n",
    "Defina uma função ``organiza`` que organiza o texto original numa lista de cantos, em que cada canto é uma lista de estrofes, cada estrofe é uma lista versos e cada verso é uma lista de palavras.\n",
    "\n",
    "## Tarefa 4\n",
    "\n",
    "Defina uma função que retorna um tuplo com os números totais de estrofes, versos e palavras.\n",
    "\n",
    "Defina uma função que retorna um tuplo com o comprimento médio de palavras por verso, por estrofe, por canto e em todo o texto.\n",
    "\n",
    "Nota: Quando existe mais do que um elemento do mesmo tipo (o texto tem por exemplo mais do que um verso), deve calcular a média por cada elemento, e de seguida a média das médias de cada elemento.\n",
    "\n",
    "## Exercício 6\n",
    "\n",
    "Quais as 3 palavras mais usadas?\n",
    "\n",
    "Qual é a estrofe que mais vezes utiliza a palavra mais utilizada no livro inteiro?\n",
    "\n",
    "Conte quantas vezes as palavras ``'Rei'`` e ``'Pátria'`` aparecem na mesma estrofe.\n",
    "\n",
    "Conte quantas vezes palavras com mais de 3 letras aparecem repetidas numa estrofe.\n",
    "\n",
    "Encontre o maior palíndrono. Quantos caracteres tem?\n",
    "\n",
    "## Tarefa 5\n",
    "\n",
    "Faça download para uma pasta local do ficheiro [palavras.txt](../dados/palavras.txt), que contém uma lista exaustiva de palavras presentes na língua Portuguesa após o último acordo ortográfico.\n",
    "\n",
    "Leia o conteúdo do ficheiro ``palavras.txt`` para um ``set`` de palavras.\n",
    "\n",
    "\n",
    "## Tarefa 6\n",
    "\n",
    "Retorne uma lista de palavras nos Lusíadas com mais de 3 letras, sem repetidos e excluindo nomes (ou seja, palavras que começam por maiúsculas) que não obedecem à ortografia atual (ou seja, que não se encontram no ``set`` de palavras acima construído). Esta lista deve estar ordenada alfabeticamente, considerando acentos. Por exemplo, a palavra ``'útil'`` deverá aparecer depois de ``'utilizar'`` e antes de ``'verdade'``.\n",
    "\n"
   ]
  }
 ],
 "metadata": {
  "kernelspec": {
   "display_name": "Python 3",
   "language": "python",
   "name": "python3"
  },
  "language_info": {
   "codemirror_mode": {
    "name": "ipython",
    "version": 3
   },
   "file_extension": ".py",
   "mimetype": "text/x-python",
   "name": "python",
   "nbconvert_exporter": "python",
   "pygments_lexer": "ipython3",
   "version": "3.9.2"
  }
 },
 "nbformat": 4,
 "nbformat_minor": 4
}
