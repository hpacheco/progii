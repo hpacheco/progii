{
 "cells": [
  {
   "cell_type": "markdown",
   "metadata": {},
   "source": [
    "# Projeto 2 - Análise de dados\n",
    "\n",
    "Neste segundo projeto vamos investigar os conceitos base de análise de dados em Python de uma perspetiva prática, e aplicá-los na leitura e processamento de dados em formatos comunmente presentes na web.\n",
    "\n",
    "Crie um novo ficheiro `projeto2.py` para desenvolver o projeto e abra-o com um IDE à sua escolha.\n",
    "\n",
    "Neste projeto vamos analisar dados metereológicos fornecidos pelo [IPMA](http://ipma.pt/), disponibilizados através da interface de programação detalhada [neste link](https://api.ipma.pt/).\n",
    "\n",
    "## Exercício 1 (GeoJSON)\n",
    "\n",
    "Faça download para uma pasta local do ficheiro [obs-surface.geojson](https://api.ipma.pt/open-data/observation/meteorology/stations/obs-surface.geojson), atualizado regularmente, que contém as observações de todas as estações metereológicas nas últimas 3 horas. O formato GeoJSON é JSON válido (observe e valide o documento em https://jsonlint.com/), e segue uma estrutura específica para representar marcadores geográficos e metadados associados. Pode facilmente visualizar os marcadores num mapa interativo e inspecionar a sua meta-informação em https://geojson.io/.\n",
    "\n",
    "Leia o conteúdo do ficheiro JSON para uma string `str`. Esta pode ser facilmente convertida numa estrutura de dados Python `data`, utilizando a biblioteca `json`."
   ]
  },
  {
   "cell_type": "code",
   "execution_count": null,
   "metadata": {},
   "outputs": [],
   "source": [
    "import json\n",
    "with open('obs-surface.geojson','r') as f: str = f.read()\n",
    "data = json.loads(str)"
   ]
  },
  {
   "cell_type": "markdown",
   "metadata": {},
   "source": [
    "Defina uma função que valida se os dados lidos são consistentes, isto é, cada estação metereológica possui exactamente três medições para as mesmas horas, e que todas as medições para a mesma estação possuem as mesmas coordenadas GPS e o mesmo nome de estação.\n",
    "\n",
    "Explore este conjunto de dados escrevendo programas Python que respondam às seguintes questões:\n",
    "* Qual o nome da estação com a maior diferença de pressão entre a primeira e a última hora registadas?\n",
    "* Por cada hora registada, qual a maior diferença de temperatura no país? Retorne um dicionário que mapeie cada hora num par de nomes das duas estações em causa.\n",
    "* Liste os nomes e coordenadas GPS de todas as estações metereológicas com a string `'Porto'` no seu nome. Identifique manualmente qual corresponde à estação metereológica da cidade do Porto.\n",
    "* Quantas estações metereológicas existem na região do Porto? Considere uma estação na região se a sua latitude e longitude estiverem no máximo a uma distância de 0.1º das cordenadas GPS da estação metereológica do Porto.\n",
    "* Quais as cidades mais quente e fria do país considerando a média das últimas três horas?\n",
    "* Retorne um dicionário que mapeie níveis de radiação em listas de pares nome/radiação de estações. Considere 5 níveis: `\"normal\"` (`<1`), `\"seguro\"` (`>=1` e `<3`), `\"perigoso\"` (`>=3` e `< 4`), `\"doentio\"` (`>=4` e `<5`) e `\"mortal\"` (`>=5`).\n",
    "\n",
    "## Tarefa 1 (GeoJSON)\n",
    "\n",
    "Faça download para uma pasta local do ficheiro JSON [7.json](https://api.ipma.pt/open-data/observation/seismic/7.json), que contém uma listagem de informação de sismicidade para Portugal Continental e Madeira durante os últimos 30 dias.\n",
    "\n",
    "Leia o conteúdo do ficheiro JSON para uma estrutura de dados em Python.\n",
    "\n",
    "De forma visualizar mais facilmente os dados, converta a estrutura de dados lida de acordo com o formato [GeoJSON](https://geojson.org/), e guarde a estrutura resultante numa variável `geosismos`. Por exemplo, uma estrutura só com um ponto deverá ter o seguinte formato (como o campo `features` é uma lista suporta múltiplos pontos).\n",
    "\n",
    "```\n",
    "{\n",
    "    \"type\": \"FeatureCollection\", \n",
    "    \"features\": [\n",
    "        {\n",
    "            \"geometry\": {\n",
    "                \"type\": \"Point\", \n",
    "                \"coordinates\": [\n",
    "                    float com valor de longitude, \n",
    "                    float com valor de latitude\n",
    "                ]\n",
    "            }, \n",
    "            \"type\": \"Feature\", \n",
    "            \"properties\": um dicionário com a metainformação associada ao ponto geográfico\n",
    "            }\n",
    "        }]\n",
    "}\n",
    "```\n",
    "\n",
    "Guarde a estrutura `geosismos` num ficheiro GEOJSON (por exemplo `'seismic.geojson'` na pasta atual) utilizando o seguinte código."
   ]
  },
  {
   "cell_type": "code",
   "execution_count": null,
   "metadata": {},
   "outputs": [],
   "source": [
    "with open('seismic.geojson', 'w') as f:\n",
    "  json.dump(geosismos, f)"
   ]
  },
  {
   "cell_type": "markdown",
   "metadata": {},
   "source": [
    "Visualize o ficheiro resultante em https://geojson.io/."
   ]
  },
  {
   "cell_type": "markdown",
   "metadata": {},
   "source": [
    "## Exercício 2 (NumPy)\n",
    "\n",
    "Pode facilmente ler uma imagem com cores num array `numpy` tri-dimensional, ou seja, uma matriz de píxeis em que a terceira dimensão é um array `[r,g,b]` com os três componentes RGB (entre `0` e `255`) da cor desse píxel. Carrege a imagem [dcc.jpg](dcc.jpg) para um array `numpy` guardado na variável `dcc`, utilizando o seguinte código."
   ]
  },
  {
   "cell_type": "code",
   "execution_count": null,
   "metadata": {},
   "outputs": [],
   "source": [
    "import matplotlib.pyplot as plt\n",
    "dcc=plt.imread('dcc.jpg')"
   ]
  },
  {
   "cell_type": "markdown",
   "metadata": {},
   "source": [
    "Imprima o array no ecrã e inspecione o seu formato com o atributo `shape`.\n",
    "\n",
    "Uma funcionalidade muito comum em câmaras fotográficas ou em software de edição de imagem é apresentar histogramas de luminância e das componentes RGB de uma imagem. O histograma permite então visualizar a frequência de cada elemento da cor na imagem e apresenta, para cada elemento da cor possível, o número de píxeis na imagem que têm esse mesmo elemento.\n",
    "\n",
    "De forma a desenhar histogramas, podemos começar por converter o array 2D da imagem num array de cores utilizando o método `reshape`:"
   ]
  },
  {
   "cell_type": "code",
   "execution_count": null,
   "metadata": {},
   "outputs": [],
   "source": [
    "import numpy as np\n",
    "w,h,rgb = dcc.shape\n",
    "colors = dcc.reshape((w*h),rgb)"
   ]
  },
  {
   "cell_type": "markdown",
   "metadata": {},
   "source": [
    "Existem diferentes formas de converter uma cor RGB numa cor na escala de cinzentos (grayscale). Uma das formas é calcular a luminância da cor, dada pela seguinte fórmula (os humanos são mais sensíveis à cor verde daí esta ter mais peso na média pesada):"
   ]
  },
  {
   "cell_type": "code",
   "execution_count": null,
   "metadata": {},
   "outputs": [],
   "source": [
    "def luminosity(rgb):\n",
    "    return 0.21 * rgb[0] + 0.72 * rgb[1] + 0.07 * rgb[2]"
   ]
  },
  {
   "cell_type": "markdown",
   "metadata": {},
   "source": [
    "Podemos então converter o array de cores `colors` num array de cinzentos `grayscales`, aplicando a função `luminosity` a cada cor, e desenhar o histograma de luminosidade correspondente:"
   ]
  },
  {
   "cell_type": "code",
   "execution_count": null,
   "metadata": {},
   "outputs": [],
   "source": [
    "grayscales = np.apply_along_axis(luminosity,1,colors)\n",
    "plt.hist(grayscales,bins=256,color='grey')\n",
    "plt.show()"
   ]
  },
  {
   "cell_type": "markdown",
   "metadata": {},
   "source": [
    "Separe o array de cores `colors` em três arrays, um para cada componente RGB da cor. Desenhe um histograma para cada componente RGB da imagem. Note que pode alterar facilmente a cor do gráfico desenhado controlando o parâmetro `color='red'`, `color='green'` e `color='blue'` da função `plt.hist`."
   ]
  },
  {
   "cell_type": "markdown",
   "metadata": {},
   "source": [
    "## Exercício 3 (NumPy)\n",
    "\n",
    "Similarmente, pode converter um array `numpy` numa imagem. Assumindo que aplica uma transformação `f` ao array original `dcc` (do exercício anterior) que retorna um array modificado, pode gravá-lo numa nova imagem `'dcc_modified.jpg'` na pasta atual da seguinte forma."
   ]
  },
  {
   "cell_type": "code",
   "execution_count": null,
   "metadata": {},
   "outputs": [],
   "source": [
    "plt.imshow(f(dcc));\n",
    "plt.savefig('dcc_modified.jpg')"
   ]
  },
  {
   "cell_type": "markdown",
   "metadata": {},
   "source": [
    "Defina as seguintes transformações:\n",
    "* Inverter as cores da imagem (i.e., invertendo cada componente RGB `c` calculando `255 - c`).\n",
    "* Converter a imagem em grayscale (i.e., convertendo o array de componentes RGB num só valor). Note que para visualizar um array no mapa de cores grayscale, deve passar o argumento adicional `cmap='gray'` à função `imgshow`.\n",
    "* Rodar a imagem 90º para a esquerda.\n",
    "* Cortar a imagem de forma a preservar apenas com os 200x200 píxeis centrais."
   ]
  },
  {
   "cell_type": "markdown",
   "metadata": {},
   "source": [
    "## Exercício 4 (NumPy)\n",
    "\n",
    "Faça download para uma pasta local dos ficheiros CSV [mtnmn-1312-porto.csv](http://api.ipma.pt/open-data/observation/climate/temperature-min/porto/mtnmn-1312-porto.csv) e [mtxmx-1312-porto.csv](http://api.ipma.pt/open-data/observation/climate/temperature-max/porto/mtxmx-1312-porto.csv), atualizados regularmente, que contêm respetivamente as temperaturas mínimas e máximas previstas durante os últimos 2 meses para a cidade do Porto.\n",
    "\n",
    "Estes ficheiros CSV são essencialmente matrizes de valores numéricos, que podem ser lidos para arrays multi-dimensionais utilizando a biblioteca `numpy` da seguinte forma."
   ]
  },
  {
   "cell_type": "code",
   "execution_count": null,
   "metadata": {},
   "outputs": [],
   "source": [
    "import numpy\n",
    "temperaturas_minimas = numpy.genfromtxt('mtnmn-1312-porto.csv',delimiter=',')\n",
    "temperaturas_maximas = numpy.genfromtxt('mtxmx-1312-porto.csv',delimiter=',')"
   ]
  },
  {
   "cell_type": "markdown",
   "metadata": {},
   "source": [
    "Imprima no ecrã ambas as matrizes e inspecione o seu formato e o tipo de cada célula. Repare que os campos não numéricos têm o valor `NaN` por defeito. Para limpar os dados, apague a primeira linha (o cabeçalho do ficheiro CSV) e a primeira coluna (o dia de cada entrada) de cada array. \n",
    "\n",
    "Explore este conjunto de dados escrevendo programas Python que respondam às seguintes questões:\n",
    "* Qual o dia com a temperatura mínima mais baixa? E qual o dia com a temperatura máxima mais alta?\n",
    "* Calcule a amplitude térmica ao longo dos últimos 2 meses. Quais as amplitudes térmicas miníma,média e máxima por dia? Filtre apenas os dias com amplitude térmica superior a 10ºC.\n",
    "* Qual a temperatura média em dias frios (com temperatura mínima inferior a 10ºC)? \n",
    "* Qual a temperatura média a cada 5 dias?\n",
    "\n",
    "Construa um array 2D `temperaturas` com a temperatura média mínima e máxima por cada dia. Uma imagem é uma matriz de píxeis, em que cada píxel é um valor numérico num dado intervalo, logo qualquer array `numpy` pode ser facilmente convertido numa imagem utilizando a biblioteca `matplotlib`. Experimente criar uma imagem `'temperaturas.png'` na pasta atual com um mapa térmico dos últimes meses da seguinte forma."
   ]
  },
  {
   "cell_type": "code",
   "execution_count": null,
   "metadata": {},
   "outputs": [],
   "source": [
    "import matplotlib.pyplot as plt\n",
    "plt.imshow(temperaturas)\n",
    "plt.savefig('temperaturas.png')"
   ]
  },
  {
   "cell_type": "markdown",
   "metadata": {},
   "source": [
    "## Tarefa 2 (Pandas)\n",
    "\n",
    "Faça download para uma pasta local do ficheiro [1131200.json](http://api.ipma.pt/open-data/forecast/meteorology/cities/daily/1131200.json), atualizado regularmente, que contém a previsão metereológica diária para os próximos 5 dias para a cidade do Porto. \n",
    "\n",
    "Leia o ficheiro JSON para uma estrutura de dados Python. Inspecione a estrutura do ficheiro e repare que é constituído por um cabeçalho e por uma lista de dados de previsões diárias. Guarde essa lista numa variável `previsoes`.\n",
    "\n",
    "Note que a estrutura da variável ``previsoes`` (uma lista de dicionários) é essencialmente uma tabela (um array 2D com nomes em cada linha/coluna). Como tal, pode ser facilmente convertida num `DataFrame` `tabela` utilizando a biblioteca `pandas` da seguinte forma."
   ]
  },
  {
   "cell_type": "code",
   "execution_count": null,
   "metadata": {},
   "outputs": [],
   "source": [
    "import pandas as pd\n",
    "tabela = pd.DataFrame(previsoes)"
   ]
  },
  {
   "cell_type": "markdown",
   "metadata": {},
   "source": [
    "Imprima no ecrã a tabela e inspecione o seu formato e o tipo de cada coluna.\n",
    "\n",
    "Escreva programas que respondam às seguintes perguntas:\n",
    "* Qual a temperatura média máxima em dias de chuva (probabilidade de precipitação >= 75%)?\n",
    "* Qual a probabilidade de chover hoje ou amanhã?\n",
    "* Qual o dia com maior amplitude térmica?\n",
    "\n",
    "## Tarefa 3 (Pandas)\n",
    "\n",
    "Faça download para uma pasta local do ficheiro [distrits-islands.json](http://api.ipma.pt/open-data/distrits-islands.json), que contém a listagem fixa das cidades para as quais o IPMA publica previsões metereológicas. Extraia uma lista de dicionários com a informação de cada cidade, e converta-a num `DataFrame` `cidades` da mesma forma que na tarefa anterior.\n",
    "\n",
    "Para consultar automaticamente as previsões nacionais mais recentes, extraia uma lista com todos os identificadores de cidades a partir tabela `cidades`. Faça o download programaticamente do ficheiro JSON com a previsão de cada cidade. Para uma cidade com idenficador `globalIdLocal`, o ficheiro respetivo pode ser obtido e gravado na pasta atual com o mesmo nome da seguinte forma."
   ]
  },
  {
   "cell_type": "code",
   "execution_count": null,
   "metadata": {},
   "outputs": [],
   "source": [
    "import urllib.request\n",
    "\n",
    "url = 'http://api.ipma.pt/open-data/forecast/meteorology/cities/daily/globalIdLocal.json'\n",
    "urllib.request.urlretrieve(url,'globalIdLocal.json')"
   ]
  },
  {
   "cell_type": "markdown",
   "metadata": {},
   "source": [
    "Carregue cada ficheiro para um `DataFrame` tal como na tarefa anterior, e acrescentando uma nova coluna `globalLocalId` que associe o identificador da cidade a todas as previsões diárias.\n",
    "\n",
    "Calcule um `DataFrame` de previsões nacionais, juntando à tabela `cidades` todas as previsões diárias seguindo os identificadores correspondentes.\n",
    "\n",
    "Escreva programas que respondam às seguintes perguntas:\n",
    "* Qual a temperatura média nacional diária por concelho?\n",
    "* Qual a temperatura máxima para os próximos 5 dias por região?\n",
    "* Calcule uma lista de distritos ordenada por ordem crescente de probabilidade agregada de chover nos próximos 5 dias.\n",
    "* Para cada dia, qual o distrito com a temperatura mínima e qual o distrito com a temperatura máxima?\n",
    "\n",
    "## Tarefa 4 (Pandas) (Valorização)\n",
    "\n",
    "Faça download para uma pasta local do ficheiro [rcm-d0.json](https://api.ipma.pt/open-data/forecast/meteorology/rcm/rcm-d0.json), que contém a previsão do risco de incêndio para o dia de hoje, agregada por distrito e concelho.\n",
    "\n",
    "Carregue o ficheiro para um `DataFrame` com 3 colunas referentes a distrito, concelho e risco previsto de incêndio. Note que no formato dado cada código DICO de 4 dígitos representa simultaneamente um DIstrito (os 2 primeiros dígitos) e um COncelho (os 2 últimos dígitos).\n",
    "\n",
    "Cruze estes dados com a tabela de previsões metereológicas nacionais, de forma a responder programaticamente às seguintes questões:\n",
    "* Qual a média de risco de incêncio por distrito?\n",
    "* Qual a temperatura máxima para concelhos de risco máximo (`5`) de incêndio?\n",
    "* Para cada concelho, qual a correlação entre a probabilidade de precipitação (média do concelho) e o risco de incêndio? Para uma tabela `tabela` com as colunas `'rcm'` e `'precipitaProb'`, pode criar uma imagem `'rcm_precipitaProb.png'` com o gráfico da correlação usando o seguinte código."
   ]
  },
  {
   "cell_type": "code",
   "execution_count": null,
   "metadata": {},
   "outputs": [],
   "source": [
    "tabela['rcm'].plot(color='red')\n",
    "tabela['precipitaProb'].plot(secondary_y=True,color='blue')\n",
    "plt.savefig('rcm_precipitaProb.png')"
   ]
  }
 ],
 "metadata": {
  "kernelspec": {
   "display_name": "Python 3",
   "language": "python",
   "name": "python3"
  },
  "language_info": {
   "codemirror_mode": {
    "name": "ipython",
    "version": 3
   },
   "file_extension": ".py",
   "mimetype": "text/x-python",
   "name": "python",
   "nbconvert_exporter": "python",
   "pygments_lexer": "ipython3",
   "version": "3.9.2"
  }
 },
 "nbformat": 4,
 "nbformat_minor": 4
}
