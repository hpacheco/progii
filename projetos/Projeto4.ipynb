{
 "cells": [
  {
   "cell_type": "markdown",
   "metadata": {},
   "source": [
    "# Projeto 4 - Animações e aplicações interativas\n",
    "\n",
    "Neste quarto projeto vamos investigar a biblioteca `pygame` de programação de animações e jogos em Python, como forma criar aplicações interativas de forma genérica para além de gráficos e mapas.\n",
    "\n",
    "Crie um novo ficheiro `projeto4.py` para desenvolver o projeto e abra-o com um IDE à sua escolha.\n",
    "\n",
    "Neste projeto vamos criar um simulador 2D bastante simplificado da órbita dos corpos celestes do Sistema Solar. Existem vários exemplos de tais simuladores, como por exemplo [este](https://mgvez.github.io/jsorrery/) ou [este](https://theskylive.com/3dsolarsystem).\n",
    "\n",
    "## Exercício 1 (Jogo Simples)\n",
    "\n",
    "Vamos começar por programar um jogo minimalista para compreender os conceitos base de desenho, animação e eventos em `pygame`.\n",
    "\n",
    "1. Crie um jogo `pygame` vazio com o seguinte código que define os elementos base e desenha uma janela de fundo preto."
   ]
  },
  {
   "cell_type": "code",
   "execution_count": null,
   "metadata": {},
   "outputs": [],
   "source": [
    "import pygame\n",
    "\n",
    "pygame.init() # inicializa o jogo\n",
    "screen = pygame.display.set_mode((800, 800)) # janela \n",
    "done = False # flag que determina quando o jogo acaba\n",
    "FPS=30 #frames por segundo (mesmo para jogos sem movimento, importante fixar um limite para evitar computação excessiva)\n",
    "clock = pygame.time.Clock() # cria o relógio\n",
    "while not done: # ciclo principal\n",
    "    for event in pygame.event.get():\n",
    "        if event.type == pygame.QUIT: # captura o evento de fechar a janela\n",
    "            done = True # termina o ciclo\n",
    "    pygame.display.update() # atualiza o desenho no ecrã \n",
    "    clock.tick(FPS) # avança o relógio"
   ]
  },
  {
   "cell_type": "markdown",
   "metadata": {},
   "source": [
    "2. Altere a cor do fundo da janela.\n",
    "3. Desenhe um objeto (um círculo de cor vermelha e de tamanho 20x20) no centro do ecrã.\n",
    "4. Crie uma animação, fazendo o objeto mover-se de acordo com velocidades constantes no eixo do X e do Y calculadas aleatoriamente (entre e 0 1) na inicialização do jogo.\n",
    "5. Evite que o objeto ultrapasse os limites da janela, fazendo com que mude a sua velocidade invertendo a velocidade na direção perpendicular ao limite com que colide.\n",
    "6. Faça com que o objeto deixe algum rasto ao movimentar-se, relembrando para isso as últimas 5 posições por onde passou e, por exemplo, desenhando-as com uma linha da mesma cor.\n",
    "7. Programe teclas para alterar a aparência do objeto, como por exemplo a sua cor, o seu diâmetro, o seu formato ou uma imagem externa.\n",
    "8. Programe as setas para influenciar a velocidade do objeto na direção carregada.\n",
    "\n",
    "## Tarefa 1 (Gráficos)\n",
    "\n",
    "Faça download para uma pasta local do ficheiro JSON [bodies.json](https://api.le-systeme-solaire.net/rest/bodies/), que contém informação sobre as propriedades e trajetórias dos planetas e respetivas luas no Sistema Solar. A descrição detalhada dos dados pode ser consultada [neste link](https://api.le-systeme-solaire.net/en/).\n",
    "\n",
    "Leia o conteúdo do ficheiro JSON, e extraia os dados referentes ao Sol e à Terra. Extraia os dados relevantes sobre cada um, nomeadamene o raio de ambos os corpos e os parâmetros referentes à órbita da Terra.\n",
    "\n",
    "Desenhe uma imagem fixa com o Sol no centro da janela e a trajetória da Terra como uma elipse. Assuma que a trajetória de um corpo à volta de outro descreve uma elipse num plano 2D tal como descrito por exemplo [neste link](https://astronomy.swin.edu.au/cosmos/E/ellipse). Um exemplo concreto do desenho da órbitra de planetas como elipses 2D pode ser encontrado nos slides da aula [T24](../slides/t24.pdf) e nos scripts de código disponibilizados na aula, como por exemplo [este](../scripts/aula24_earth3.py). Ajuste o tamanho da janela e as proporções da visualização de forma a que todos os elementos caibam na janela. Caso alguns objetos fiquem demasiado pequenos, pode alterar as proporções do Sol ou definir um tamanho mínimo de cada planeta (independentemente das proporções) para a sua visualização.\n",
    "\n",
    "## Tarefa 2 (Gráficos)\n",
    "\n",
    "Extraia os dados referentes a todos os outros planetas, e desenhe as suas órbitas à volta do Sol. Assuma que todos os planetas descrevem a sua órbita no mesmo plano 2D. Note que isto é uma simplificação e significa ignorar alguns parâmetros tais como a inclinação orbital, que define a órbita de um corpo num plano 3D. Ajuste o tamanho da janela e as proporções da visualização de forma a que todos os elementos caibam na janela. Caso alguns objetos fiquem demasiado pequenos, pode alterar as proporções do Sol ou definir um tamanho mínimo de cada planeta (independentemente das proporções) para a sua visualização.\n",
    "\n",
    "## Tarefa 3 (Animações) (Valorização)\n",
    "\n",
    "Desenhe cada planeta de acordo com o seu raio, e anime o seu movimento à volta do Sol. Assuma que cada planeta tem uma posição inicial arbitrária à sua escolha dentro da sua órbita.\n",
    "\n",
    "## Exercício 2 (Animações)\n",
    "\n",
    "Desenhe e anime também outros objetos celestiais, tais como luas que descrevem a sua órbitra à volta de planetas.\n",
    "\n",
    "## Exercício 3 (Interatividade)\n",
    "\n",
    "Acrescente funcionalidades de visualização interativa como zoom in, zoom out, movimentações nas setas, mostrar/esconder informação ou outras que considere interessantes.\n"
   ]
  }
 ],
 "metadata": {
  "kernelspec": {
   "display_name": "Python 3",
   "language": "python",
   "name": "python3"
  },
  "language_info": {
   "codemirror_mode": {
    "name": "ipython",
    "version": 3
   },
   "file_extension": ".py",
   "mimetype": "text/x-python",
   "name": "python",
   "nbconvert_exporter": "python",
   "pygments_lexer": "ipython3",
   "version": "3.9.2"
  }
 },
 "nbformat": 4,
 "nbformat_minor": 4
}
