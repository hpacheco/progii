{
 "cells": [
  {
   "cell_type": "markdown",
   "metadata": {},
   "source": [
    "# Projeto 3 - Visualização de dados\n",
    "\n",
    "Neste terceiro projeto vamos investigar as bibliotecas base de visualização de dados em Python de uma perspetiva prática, e aplicá-las para gerar gráficos e mapas a partir de dados previamente processados.\n",
    "\n",
    "Crie um novo ficheiro `projeto3.py` para desenvolver o projeto e abra-o com um IDE à sua escolha.\n",
    "\n",
    "Neste projeto vamos analisar dados sobre a evolução da pandemia de COVID-19 publicados pela [DGS](https://www.dgs.pt/), e disponibilizados em formatos de dados facilmente manipuláveis [neste repositório](https://github.com/dssg-pt/covid19pt-data).\n",
    "\n",
    "## Exercício 1 (Gráficos)\n",
    "\n",
    "Faça download para uma pasta local do ficheiro [vacinas.csv](https://github.com/dssg-pt/covid19pt-data/blob/master/vacinas.csv), atualizado diariamente, que contém os registos diários de vacinação contra a COVID-19.\n",
    "\n",
    "Leia o conteúdo do ficheiro CSV para um `DataFrame` da biblioteca `pandas` com nome `vacinas`, da seguinte forma."
   ]
  },
  {
   "cell_type": "code",
   "execution_count": null,
   "metadata": {},
   "outputs": [],
   "source": [
    "import pandas as pd\n",
    "vacinas = pd.read_csv('vacinas.csv')"
   ]
  },
  {
   "cell_type": "markdown",
   "metadata": {},
   "source": [
    "Pode visualizar rapidamente os dados utilizando a biblioteca `matplotlib` da seguinte forma."
   ]
  },
  {
   "cell_type": "code",
   "execution_count": null,
   "metadata": {},
   "outputs": [],
   "source": [
    "import matplotlib.pyplot as plt\n",
    "vacinas.plot()\n",
    "plt.show()"
   ]
  },
  {
   "cell_type": "markdown",
   "metadata": {},
   "source": [
    "Como pode reparar, os dados estão por vezes incompletos. Limpe ou repare os dados, por exemplo, removendo linhas com campos incompletos. \n",
    "\n",
    "Explore a biblioteca `matplotlib` para conseguir diferentes formas de visualização dos dados, como por exemplo:\n",
    "* Desenhar apenas colunas específicas, como por exemplo apenas números de novas doses.\n",
    "* Controlar as propriedades de cada linha (cor, tipo de linha, marcadores, etc).\n",
    "* Desenhar números diários de primeiras e segundas doses como barras lado-a-lado e como barras agregadas.\n",
    "* Atribuir um título ao gráfico e aos eixos do X e do Y e criar uma legenda com a descrição de cada linha.\n",
    "* Marcar momentos importantes como por exemplo o início da vacinação da segunda dose com linhas verticais e descrições.\n",
    "\n",
    "## Tarefa 1 (Gráficos)\n",
    "\n",
    "Faça download para uma pasta local do ficheiro [data.csv](https://github.com/dssg-pt/covid19pt-data/blob/master/data.csv), atualizado diariamente, que contém os registos diários de casos COVID-19.\n",
    "\n",
    "Desenhe um gráfico da evolução da curva da pandemia, focando-se em particular no crescimento dos números diários de casos confirmados, recuperados e de óbitos. Desenhe cada curva com um estilo (linhas, marcadores, cores, áreas, barras, etc) diferente. Uma vez que felizmente o número de casos confirmados e recuperados é bastante superior ao número de óbitos, desenhe o número de óbitos num eixo dos Y independente.\n",
    "\n",
    "## Exercício 2 (Gráficos)\n",
    "\n",
    "Desenhe um gráfico dos números máximos num só dia por cada região. O eixo dos X deve corresponder à data e o eixo dos Y ao nome da região. Desenhe o gráfico como um scatter plot, registando os máximos de casos confirmados, recuperados e óbitos como círculos de cores diferentes para cada categoria e cujo tamanho é proporcional ao número.\n",
    "\n",
    "## Exercício 3 (Gráficos dinâmicos)\n",
    "\n",
    "Desenhe uma versão interativa do gráfico da Tarefa 1, mas utilizando uma checkbox que permita controlar quais as curvas que são ou não apresentadas.\n",
    "\n",
    "## Tarefa 2 (Gráficos interativos)\n",
    "\n",
    "Desenhe um gráfico que apresente um pie chart com o número de casos confirmados discriminado por escalões etários num certo dia. Acrescente um slider interativo que permita controlar qual a data apresentada.\n",
    "\n",
    "## Exercício 4 (Mapas)\n",
    "\n",
    "Faça download para uma pasta local do ficheiro [portugal.geojson](https://github.com/dssg-pt/covid19pt-data/blob/master/extra/mapas/portugal.geojson), que contém informação sobre os contornos geográficos de cada uma das cinco regiões de Portugal Continental mais as duas regiões autónomas dos Açores e Madeira presentes nos dados facultados pela DGS. Pode visualizar as regiões no mapa seguindo o link acima ou carregando o ficheiro em https://geojson.io/.\n",
    "\n",
    "Utilizando a biblioteca `geopandas`, pode carregar facilmente o ficheiro GeoJSON para um `GeoDataFrame` (que funciona exatamente como um `DataFrame` `pandas` tradicional)."
   ]
  },
  {
   "cell_type": "code",
   "execution_count": null,
   "metadata": {},
   "outputs": [],
   "source": [
    "import geopandas as geopd\n",
    "mapa = geopd.read_file(\"portugal.geojson\")"
   ]
  },
  {
   "cell_type": "markdown",
   "metadata": {},
   "source": [
    "Pode também desenhar facilmente o conteúdo GeoJSON (armazenado num `GeoDataFrame`) como um gráfico `matplotlib`, em que coordenadas de longitude e latitude são vistas como pontos no eixo do X e do Y respetivamente."
   ]
  },
  {
   "cell_type": "code",
   "execution_count": null,
   "metadata": {},
   "outputs": [],
   "source": [
    "import matplotlib.pyplot as plt\n",
    "mapa.plot()\n",
    "plt.show()"
   ]
  },
  {
   "cell_type": "markdown",
   "metadata": {},
   "source": [
    "## Tarefa 3 (Mapas)\n",
    "\n",
    "Faça download para uma pasta local do ficheiro [PORDATA_Densidade-populacional.csv](https://github.com/dssg-pt/covid19pt-data/blob/master/extra/populacional/PORDATA_Densidade-populacional.csv), que contém informação sobre a população Portuguesa por âmbito geográfico à data de 2019.\n",
    "\n",
    "Desenhe um mapa *chloropeth* das regiões de Portugal, em que a cor de cada região é proporcional ao número mais recente de casos COVID-19 confirmados por 100000 habitantes. Para isso deve:\n",
    "1. Combinar os dados de casos COVID-19 e densidade populacional\n",
    "2. Calcular o rácio de casos confirmados por região.\n",
    "3. Colorir o mapa do exercício anterior.\n",
    "4. Acrescentar um *basemap* à sua escolha.\n",
    "\n",
    "## Tarefa 4 (Mapas) (Valorização)\n",
    "\n",
    "Faça download para uma pasta local do ficheiro [data_concelhos.csv](https://github.com/dssg-pt/covid19pt-data/blob/master/data_concelhos.csv), que contém informação sobre o número total acumulado de casos COVID-19 confirmados por concelho.\n",
    "\n",
    "Faça download para uma pasta local dos ficheiros no formato Shapefile presentes [nesta pasta](https://github.com/dssg-pt/covid19pt-data/tree/master/extra/mapas/concelhos), que contêm informação sobre os contornos geográficos dos concelhos de Portugal. Pode carregar esta informação para um `GeoDataFrame` lendo o ficheiro `concelhos.shp` com o `geopandas`, tal como para um ficheiro GeoJSON. Note que necessita que todos os outros ficheiros se encontrem na mesma pasta.\n",
    "\n",
    "Desenhe um mapa de concelhos de Portugal, sobreposto por um scatter plot que desenhe para cada concelho um círculo com o número total mais recente de casos COVID-19 confirmados, sendo o tamanho e cor de cada círculo proporcionais ao número de casos. Pode utilizar o centro do polígono de cada concelho como ponto de referência.\n",
    "\n",
    "## Exercício 5 (Mapas interativos)\n",
    "\n",
    "Desenhe versões interativas dos mapas das tarefas anteriores, como por exemplo:\n",
    "* Acrescentar um slider para visualizar a evolução do mapa ao longo do tempo.\n",
    "* Acrescentar um radio button para alternar entre a visualização dos números de casos por região our por concelho."
   ]
  }
 ],
 "metadata": {
  "kernelspec": {
   "display_name": "Python 3",
   "language": "python",
   "name": "python3"
  },
  "language_info": {
   "codemirror_mode": {
    "name": "ipython",
    "version": 3
   },
   "file_extension": ".py",
   "mimetype": "text/x-python",
   "name": "python",
   "nbconvert_exporter": "python",
   "pygments_lexer": "ipython3",
   "version": "3.9.2"
  }
 },
 "nbformat": 4,
 "nbformat_minor": 4
}
