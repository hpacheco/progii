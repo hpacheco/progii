{
 "cells": [
  {
   "cell_type": "markdown",
   "id": "unique-shame",
   "metadata": {},
   "source": [
    "# Melhoria\n",
    "\n",
    "A próximas tarefas são destinadas a alunos que desejem fazer melhora à cadeira.\n",
    "Para estas tarefas vamos utilizar como contexto o Euro 2020 de Futebol, a decorrer de momento.\n",
    "\n",
    "Faça download para uma pasta local do ficheiro [euro2020.json](https://raw.githubusercontent.com/lsv/uefa-euro-2020/master/data.json), atualizado diariamente, que contém os dados de todas as partidas realizadas no torneio.\n",
    "\n",
    "## Tarefa 1\n",
    "\n",
    "Crie um novo ficheiro `tarefa1.py` para desenvolver a tarefa e abra-o com um IDE à sua escolha.\n",
    "\n",
    "Carrege o ficheiro JSON acima para uma estrutura de dados Python, de forma a permitir a sua manipulação programaticamente.\n",
    "\n",
    "Construa uma tabela de estatísticas sobre as equipas em prova, na forma de um DataFrame pandas, com as seguintes colunas: \n",
    "* Bandeira (o caracter unicode associado)\n",
    "* Golos marcados\n",
    "* Golos sofridos\n",
    "* Jogos realizados\n",
    "\n",
    "**NOTA:** Pode fazer a manipulação dos dados da forma que melhor entender, utilizando listas, dicionários, DataFrames, etc. Apenas o resultado final tem que ser obrigatoriamente um DataFrame.\n",
    "\n",
    "## Tarefa 2\n",
    "\n",
    "Crie um novo ficheiro `tarefa2.py` para desenvolver a tarefa e abra-o com um IDE à sua escolha.\n",
    "\n",
    "Carrege a informação referente a todos os estádios que participam no torneio a partir do ficheiro JSON acima referido.\n",
    "\n",
    "Utilizando o matplotlib e o geopandas, desenhe um mapa da Europa interativo com as seguintes propriedades:\n",
    "1. Um basemap à sua escolha.\n",
    "2. Um marcador com o nome de cada estádio na sua coordenada geográfica.\n",
    "3. Um conjunto de `CheckButtons` matplotlib com a listagem das seleções de futebol participantes na prova.\n",
    "4. Torne o mapa interativo, desenhando para cada estádio um círculo de tamanho proporcional ao número de jogos realizados nesse estádio, filtrando apenas os jogos que incluam pelo menos uma das equipas atualmente selecionadas no `CheckButtons`. \n **NOTA**: Evite contar duplamente jogos entre duas equipas selecionadas."
   ]
  }
 ],
 "metadata": {
  "kernelspec": {
   "display_name": "Python 3",
   "language": "python",
   "name": "python3"
  },
  "language_info": {
   "codemirror_mode": {
    "name": "ipython",
    "version": 3
   },
   "file_extension": ".py",
   "mimetype": "text/x-python",
   "name": "python",
   "nbconvert_exporter": "python",
   "pygments_lexer": "ipython3",
   "version": "3.9.2"
  }
 },
 "nbformat": 4,
 "nbformat_minor": 5
}
