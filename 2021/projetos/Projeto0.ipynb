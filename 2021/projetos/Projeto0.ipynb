{
 "cells": [
  {
   "cell_type": "markdown",
   "metadata": {},
   "source": [
    "# Projeto 0 - Desenferrujar\n",
    "\n",
    "Nas primeiras aulas vamos reavivar os nossos conhecimentos fundamentais de programação em Python: cálculo numérico, listas, iteração e processamento de strings.\n",
    "\n",
    "Crie um novo ficheiro `projeto0.py` para desenvolver o projeto e abra-o com um IDE à sua escolha.\n",
    "\n",
    "Neste projeto (primeiras duas semanas de aulas práticas) vamos resolver livremente alguns exercícios lecionados em edições anteriores da cadeira anterior de [Programação I](https://www.dcc.fc.up.pt/~jpp/Prog1920/). Sinta-se à vontade para requisitar mais ou novos exercícios aos docentes.\n",
    "\n",
    "Vamos utilizar as seguintes folhas de exercício:\n",
    "* [Folha 2](https://www.dcc.fc.up.pt/~jpp/Prog1920/pratica-02.pdf)\n",
    "* [Folha 3](https://www.dcc.fc.up.pt/~jpp/Prog1920/pratica-03.pdf)\n",
    "* [Folha 4](https://www.dcc.fc.up.pt/~jpp/Prog1920/pratica-04.pdf)\n",
    "* [Folha 5](https://www.dcc.fc.up.pt/~jpp/Prog1920/pratica-05.pdf)\n",
    "* [Folha 6](https://www.dcc.fc.up.pt/~jpp/Prog1920/pratica-06.pdf)\n",
    "\n",
    "Ficam algumas sugestões (não exclusivas) de exercícios para resolver. Este projeto é completamente livre e não sujeito a avaliação. Os alunos devem sentir-se à vontade para explorar exercícios de diferentes tipos, resolver exercícios em conjunto, discutir soluções com a turma ou pedir sugestões aos docentes. \n",
    "\n",
    "## Cálculo numérico\n",
    "\n",
    "Exercícios sugeridos:\n",
    "* 2.5\n",
    "* 2.6\n",
    "* 2.8\n",
    "* 2.11 \n",
    "* 3.4\n",
    "* 3.5\n",
    "\n",
    "## Listas e iteração\n",
    "\n",
    "Exercícios sugeridos:\n",
    "* 3.6\n",
    "* 3.7\n",
    "* 3.10\n",
    "* 3.12\n",
    "* 3.15\n",
    "* 4.3\n",
    "* 4.8\n",
    "* 4.14\n",
    "* 6.5\n",
    "* 6.7\n",
    "\n",
    "## Processamento de strings\n",
    "\n",
    "Exercícios sugeridos:\n",
    "* 5.1\n",
    "* 5.3\n",
    "* 5.5\n",
    "* 5.8\n",
    "* 5.11\n",
    "* 6.1\n"
   ]
  }
 ],
 "metadata": {
  "kernelspec": {
   "display_name": "Python 3",
   "language": "python",
   "name": "python3"
  },
  "language_info": {
   "codemirror_mode": {
    "name": "ipython",
    "version": 3
   },
   "file_extension": ".py",
   "mimetype": "text/x-python",
   "name": "python",
   "nbconvert_exporter": "python",
   "pygments_lexer": "ipython3",
   "version": "3.9.1"
  }
 },
 "nbformat": 4,
 "nbformat_minor": 4
}
